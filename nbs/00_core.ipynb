{
 "cells": [
  {
   "cell_type": "markdown",
   "metadata": {},
   "source": [
    "# core\n",
    "\n",
    "> Stores the main class to boost a estimator"
   ]
  },
  {
   "cell_type": "code",
   "execution_count": null,
   "metadata": {},
   "outputs": [],
   "source": [
    "#| default_exp core"
   ]
  },
  {
   "cell_type": "code",
   "execution_count": 1,
   "metadata": {},
   "outputs": [],
   "source": [
    "#| hide\n",
    "from nbdev.showdoc import *\n",
    "from fastcore.test import *\n",
    "from sklearn import neighbors\n",
    "from sklearn.ensemble import RandomForestRegressor\n",
    "import typing as t\n",
    "import numpy as np\n",
    "from scipy.spatial import cKDTree\n",
    "from dataclasses import dataclass, field"
   ]
  },
  {
   "cell_type": "code",
   "execution_count": 4,
   "metadata": {},
   "outputs": [],
   "source": [
    "#| export\n",
    "Estimator = t.Any\n",
    "Columns = t.Union[t.Literal[\"*\"], t.List[int]]\n",
    "\n",
    "\n",
    "@dataclass\n",
    "class KNNSpatialBooster:\n",
    "    \"\"\"\n",
    "    A KNN Spatial Booster.\n",
    "\n",
    "    You can use it with any model. It uses the training dataset to improve\n",
    "    the spatial perception of the model adding more features.\n",
    "\n",
    "    Read more in the `KNNSpatialBooster` docs.\n",
    "\n",
    "    Parameters\n",
    "    ----------\n",
    "\n",
    "    n_neighbors : int, default=5\n",
    "        The number of neighbors to use as feature.\n",
    "\n",
    "    estimator : Estimator, default=RandomForestRegressor()\n",
    "        Any Estimator as defined by scikit-learn.\n",
    "\n",
    "    estimator_output_1d_array : bool, default=True\n",
    "        Used to be compatible with estimators that needs 1d arrays in `.fit()`.\n",
    "\n",
    "    spatial_features : Columns, default=\"*\"\n",
    "        Define which columns should be used as coordinates for KNN.\n",
    "    \n",
    "    remove_target_spatial_cols : bool, default=False\n",
    "        Set to True if you believe the model should not use the original\n",
    "        spatial features in the training process.\n",
    "    \n",
    "    remove_neighbor_spatial_cols : bool, default=True\n",
    "        Set to True if you believe the model should not use the neighbors\n",
    "        spatial features in the training process.\n",
    "    \"\"\"\n",
    "    n_neighbors: int = field(default=5)\n",
    "    estimator: Estimator = field(default=RandomForestRegressor())\n",
    "    estimator_output_1d_array: bool = field(default=True)\n",
    "    spatial_features: Columns = field(default=\"*\")\n",
    "    remove_target_spatial_cols: bool = field(default=False)\n",
    "    remove_neighbor_spatial_cols: bool = field(default=True)\n",
    "    \n",
    "    def fit(self, X: np.ndarray, Y: np.ndarray) -> None:\n",
    "        \"\"\"\n",
    "        Fit model for X and Y.\n",
    "\n",
    "        Parameters\n",
    "        ----------\n",
    "\n",
    "        X : np.ndarray\n",
    "            Shape must be (number of samples,) or (number of samples, number_of_features).\n",
    "        Y : np.ndarray\n",
    "            Shape must be (number of samples,) or (number of samples, number of outputs).\n",
    "\n",
    "        \"\"\"\n",
    "        if len(X.shape) < 1 or len(X.shape) > 2:\n",
    "            raise Exception(f\"Bad X shape: {X.shape}\")\n",
    "\n",
    "        if len(Y.shape) < 1 or len(Y.shape) > 2:\n",
    "            raise Exception(f\"Bad Y shape: {Y.shape}\")\n",
    "\n",
    "        self.X = X if len(X.shape) == 2 else X.reshape((X.shape[0], 1))\n",
    "        self.Y = Y if len(Y.shape) == 2 else Y.reshape((Y.shape[0], 1))\n",
    "\n",
    "        self.spatial_cols = (\n",
    "            list(range(self.X.shape[1]))\n",
    "            if self.spatial_features == \"*\"\n",
    "            else self.spatial_features\n",
    "        )\n",
    "\n",
    "        boosted_X = KNNSpatialBooster.knn_enrichment(\n",
    "            self.X,\n",
    "            self.Y,\n",
    "            self.X,\n",
    "            self.spatial_cols,\n",
    "            self.n_neighbors,\n",
    "            remove_first_neighbor=True,\n",
    "            remove_target_spatial_cols=self.remove_target_spatial_cols,\n",
    "            remove_neighbor_spatial_cols=self.remove_neighbor_spatial_cols,\n",
    "        )\n",
    "        self.estimator.fit(\n",
    "            boosted_X, Y.ravel() if self.estimator_output_1d_array else Y\n",
    "        )\n",
    "\n",
    "    def predict(self, X: np.ndarray) -> np.ndarray:\n",
    "        \"\"\"\n",
    "        Predict for X.\n",
    "\n",
    "        Parameters\n",
    "        ----------\n",
    "\n",
    "        X : np.ndarray\n",
    "            Shape must be (number of samples,) or (number of samples, number_of_features).\n",
    "\n",
    "        Returns\n",
    "        -------\n",
    "\n",
    "        Y : np.ndarray\n",
    "            Predicted value for given X.\n",
    "        \"\"\"\n",
    "\n",
    "        boosted_X = KNNSpatialBooster.knn_enrichment(\n",
    "            self.X,\n",
    "            self.Y,\n",
    "            X,\n",
    "            self.spatial_cols,\n",
    "            self.n_neighbors,\n",
    "            remove_target_spatial_cols=self.remove_target_spatial_cols,\n",
    "            remove_neighbor_spatial_cols=self.remove_neighbor_spatial_cols,\n",
    "        )\n",
    "        return self.estimator.predict(boosted_X)\n",
    "\n",
    "    def score(self, X: np.ndarray, Y: np.ndarray) -> float:\n",
    "        \"\"\"\n",
    "        Calculate score for X and Y. It uses the estimator score function.\n",
    "\n",
    "        Parameters\n",
    "        ----------\n",
    "\n",
    "        X : np.ndarray\n",
    "            Shape must be (number of samples,) or (number of samples, number_of_features).\n",
    "        Y : np.ndarray\n",
    "            Shape must be (number of samples,) or (number of samples, number of outputs).\n",
    "\n",
    "        Returns\n",
    "        -------\n",
    "\n",
    "        score : float\n",
    "            Estimator score.\n",
    "        \"\"\"\n",
    "\n",
    "        boosted_X = KNNSpatialBooster.knn_enrichment(\n",
    "            self.X,\n",
    "            self.Y,\n",
    "            X,\n",
    "            self.spatial_cols,\n",
    "            self.n_neighbors,\n",
    "            remove_target_spatial_cols=self.remove_target_spatial_cols,\n",
    "            remove_neighbor_spatial_cols=self.remove_neighbor_spatial_cols,\n",
    "        )\n",
    "        return self.estimator.score(boosted_X, Y)\n",
    "\n",
    "    @staticmethod\n",
    "    def knn_enrichment(\n",
    "        base_X: np.ndarray,\n",
    "        base_y: np.ndarray,\n",
    "        target_X: np.ndarray,\n",
    "        spatial_cols: t.List[int],\n",
    "        n_neighbors: int,\n",
    "        remove_first_neighbor: bool = False,\n",
    "        remove_target_spatial_cols: bool = False,\n",
    "        remove_neighbor_spatial_cols: bool = True,\n",
    "    ) -> np.ndarray:\n",
    "        first_index = 1 if remove_first_neighbor else 0\n",
    "        k = n_neighbors + first_index\n",
    "        btree = cKDTree(base_X[:, spatial_cols])\n",
    "        distances, indexes = btree.query(target_X[:, spatial_cols], k=k)\n",
    "\n",
    "        neighbors_cols = [\n",
    "            i\n",
    "            for i in range(base_X.shape[1])\n",
    "            if not (remove_neighbor_spatial_cols and (i in spatial_cols))\n",
    "        ]\n",
    "\n",
    "        neighbors_tuples = [\n",
    "            (\n",
    "                base_X[idx.ravel(), :][:, neighbors_cols],\n",
    "                np.reciprocal(d + 1),\n",
    "                base_y[idx.ravel(), :],\n",
    "            )\n",
    "            for d, idx in zip(np.hsplit(distances, k), np.hsplit(indexes, k))\n",
    "        ]\n",
    "\n",
    "        neighbors = [np.hstack(neighbors_tuple) for neighbors_tuple in neighbors_tuples]\n",
    "\n",
    "        taget_cols = [\n",
    "            i\n",
    "            for i in range(target_X.shape[1])\n",
    "            if not (remove_target_spatial_cols and (i in spatial_cols))\n",
    "        ]\n",
    "\n",
    "        return np.hstack([target_X[:, taget_cols], *neighbors[first_index:]])\n"
   ]
  },
  {
   "cell_type": "code",
   "execution_count": 7,
   "metadata": {},
   "outputs": [
    {
     "data": {
      "text/markdown": [
       "---\n",
       "\n",
       "### KNNSpatialBooster.fit\n",
       "\n",
       ">      KNNSpatialBooster.fit (X:numpy.ndarray, Y:numpy.ndarray)\n",
       "\n",
       "Fit model for X and Y."
      ],
      "text/plain": [
       "---\n",
       "\n",
       "### KNNSpatialBooster.fit\n",
       "\n",
       ">      KNNSpatialBooster.fit (X:numpy.ndarray, Y:numpy.ndarray)\n",
       "\n",
       "Fit model for X and Y."
      ]
     },
     "execution_count": 7,
     "metadata": {},
     "output_type": "execute_result"
    }
   ],
   "source": [
    "show_doc(KNNSpatialBooster.fit)"
   ]
  },
  {
   "cell_type": "code",
   "execution_count": 8,
   "metadata": {},
   "outputs": [
    {
     "data": {
      "text/markdown": [
       "---\n",
       "\n",
       "### KNNSpatialBooster.predict\n",
       "\n",
       ">      KNNSpatialBooster.predict (X:numpy.ndarray)\n",
       "\n",
       "Predict for X."
      ],
      "text/plain": [
       "---\n",
       "\n",
       "### KNNSpatialBooster.predict\n",
       "\n",
       ">      KNNSpatialBooster.predict (X:numpy.ndarray)\n",
       "\n",
       "Predict for X."
      ]
     },
     "execution_count": 8,
     "metadata": {},
     "output_type": "execute_result"
    }
   ],
   "source": [
    "show_doc(KNNSpatialBooster.predict)"
   ]
  },
  {
   "cell_type": "code",
   "execution_count": 6,
   "metadata": {},
   "outputs": [
    {
     "data": {
      "text/markdown": [
       "---\n",
       "\n",
       "### KNNSpatialBooster.score\n",
       "\n",
       ">      KNNSpatialBooster.score (X:numpy.ndarray, Y:numpy.ndarray)\n",
       "\n",
       "Calculate score for X and Y."
      ],
      "text/plain": [
       "---\n",
       "\n",
       "### KNNSpatialBooster.score\n",
       "\n",
       ">      KNNSpatialBooster.score (X:numpy.ndarray, Y:numpy.ndarray)\n",
       "\n",
       "Calculate score for X and Y."
      ]
     },
     "execution_count": 6,
     "metadata": {},
     "output_type": "execute_result"
    }
   ],
   "source": [
    "show_doc(KNNSpatialBooster.score)"
   ]
  },
  {
   "cell_type": "code",
   "execution_count": 8,
   "metadata": {},
   "outputs": [],
   "source": [
    "#| hide\n",
    "import nbdev; nbdev.nbdev_export()"
   ]
  }
 ],
 "metadata": {
  "kernelspec": {
   "display_name": "Python 3 (ipykernel)",
   "language": "python",
   "name": "python3"
  },
  "language_info": {
   "codemirror_mode": {
    "name": "ipython",
    "version": 3
   },
   "file_extension": ".py",
   "mimetype": "text/x-python",
   "name": "python",
   "nbconvert_exporter": "python",
   "pygments_lexer": "ipython3",
   "version": "3.10.11"
  }
 },
 "nbformat": 4,
 "nbformat_minor": 4
}
