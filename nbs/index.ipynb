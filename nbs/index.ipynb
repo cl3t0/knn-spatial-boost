{
 "cells": [
  {
   "cell_type": "code",
   "execution_count": null,
   "metadata": {},
   "outputs": [],
   "source": [
    "#| hide\n",
    "from knn_spatial_boost.core import *"
   ]
  },
  {
   "cell_type": "markdown",
   "metadata": {},
   "source": [
    "# KNN Spatial Boost\n",
    "\n",
    "> Boost any model to fit spatial data using KNN"
   ]
  },
  {
   "cell_type": "markdown",
   "metadata": {},
   "source": [
    "Using a machine learning model to obtain a huge amount of simple patterns from coordinates without any other feature becomes difficult because it depends on how much information your model can learn. KNN, as a non-parametric algorithm, can address this problem, but struggles with more complex patterns. Here’s KNN Spatial Boost algorithm comes in."
   ]
  },
  {
   "cell_type": "markdown",
   "metadata": {},
   "source": [
    "## Install"
   ]
  },
  {
   "cell_type": "markdown",
   "metadata": {},
   "source": [
    "```sh\n",
    "pip install knn_spatial_boost\n",
    "```"
   ]
  },
  {
   "cell_type": "markdown",
   "metadata": {},
   "source": [
    "## How to use"
   ]
  },
  {
   "cell_type": "markdown",
   "metadata": {},
   "source": [
    "In the example we are going to use the MLPRegressor from the scikit-learn library."
   ]
  },
  {
   "cell_type": "code",
   "execution_count": null,
   "metadata": {},
   "outputs": [],
   "source": [
    "from knn_spatial_boost.core import KNNSpatialBooster\n",
    "from sklearn.neural_network import MLPRegressor\n",
    "\n",
    "nn = KNNSpatialBooster(\n",
    "    n_neighbors=2,\n",
    "    spatial_features=[1, 2],\n",
    "    estimator=MLPRegressor()\n",
    ")"
   ]
  }
 ],
 "metadata": {
  "kernelspec": {
   "display_name": "python3",
   "language": "python",
   "name": "python3"
  }
 },
 "nbformat": 4,
 "nbformat_minor": 4
}
